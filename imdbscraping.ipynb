{
 "cells": [
  {
   "cell_type": "markdown",
   "metadata": {},
   "source": [
    "# IMDB Top Rated TV Shows"
   ]
  },
  {
   "cell_type": "code",
   "execution_count": 204,
   "metadata": {},
   "outputs": [],
   "source": [
    "# import libraries\n",
    "import requests\n",
    "from bs4 import BeautifulSoup\n",
    "import pandas as pd\n",
    "import numpy as np"
   ]
  },
  {
   "cell_type": "code",
   "execution_count": 205,
   "metadata": {},
   "outputs": [],
   "source": [
    "url = \"https://www.imdb.com/chart/toptv/?ref_=nv_tvv_250\"\n",
    "response = requests.get(url)\n",
    "imdb = response.text\n",
    "soup = BeautifulSoup(imdb, 'html.parser')\n",
    "table = soup.find(class_='chart full-width')\n",
    "table_body = table.tbody"
   ]
  },
  {
   "cell_type": "code",
   "execution_count": 206,
   "metadata": {},
   "outputs": [],
   "source": [
    "movie_list = []\n",
    "table_row = table_body.find_all('tr')\n",
    "for i in range (0, len(table_row)):\n",
    "    movie_name = table_row[i].find(class_='titleColumn').a.text.strip()\n",
    "    movie_rating = table_row[i].find(class_='ratingColumn imdbRating').text.strip()\n",
    "    rating_user = table_row[i].find(class_='ratingColumn imdbRating').strong['title']\n",
    "    movie_year = table_row[i].find(class_='titleColumn').span.text\n",
    "    data_dict = {}\n",
    "    data_dict['Movie Name'] = movie_name + ' ' + movie_year\n",
    "    data_dict['Movie Rating'] = movie_rating\n",
    "    data_dict['Rating based on users'] = rating_user\n",
    "    movie_list.append(data_dict)"
   ]
  },
  {
   "cell_type": "code",
   "execution_count": 207,
   "metadata": {},
   "outputs": [],
   "source": [
    "df = pd.DataFrame(movie_list)\n",
    "df.columns = ['MOVIE NAME & YEAR', 'MOVIE RATINGS', 'RATING BASED ON USERS']\n",
    "df.index.name = 'foo'\n",
    "df.index = np.arange(1, len(df)+1)    "
   ]
  },
  {
   "cell_type": "code",
   "execution_count": 208,
   "metadata": {},
   "outputs": [],
   "source": [
    "df.index.name='S/No.'"
   ]
  },
  {
   "cell_type": "code",
   "execution_count": 209,
   "metadata": {},
   "outputs": [],
   "source": [
    "df.to_csv('imdb top tv show.csv')"
   ]
  },
  {
   "cell_type": "code",
   "execution_count": null,
   "metadata": {},
   "outputs": [],
   "source": []
  },
  {
   "cell_type": "code",
   "execution_count": null,
   "metadata": {},
   "outputs": [],
   "source": []
  },
  {
   "cell_type": "code",
   "execution_count": null,
   "metadata": {},
   "outputs": [],
   "source": []
  },
  {
   "cell_type": "code",
   "execution_count": null,
   "metadata": {},
   "outputs": [],
   "source": []
  }
 ],
 "metadata": {
  "kernelspec": {
   "display_name": "Python 3",
   "language": "python",
   "name": "python3"
  },
  "language_info": {
   "codemirror_mode": {
    "name": "ipython",
    "version": 3
   },
   "file_extension": ".py",
   "mimetype": "text/x-python",
   "name": "python",
   "nbconvert_exporter": "python",
   "pygments_lexer": "ipython3",
   "version": "3.8.3"
  }
 },
 "nbformat": 4,
 "nbformat_minor": 4
}
